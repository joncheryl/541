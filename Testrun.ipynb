{
 "metadata": {
  "name": "",
  "signature": "sha256:6a24e7e15a759400cdecfdd0b716bf2fbfa833b6b0083be0a66cd8f80d2752a7"
 },
 "nbformat": 3,
 "nbformat_minor": 0,
 "worksheets": [
  {
   "cells": [
    {
     "cell_type": "heading",
     "level": 1,
     "metadata": {},
     "source": [
      "STAT 541 HW4"
     ]
    },
    {
     "cell_type": "heading",
     "level": 2,
     "metadata": {},
     "source": [
      "Problem 1"
     ]
    },
    {
     "cell_type": "heading",
     "level": 3,
     "metadata": {},
     "source": [
      "Part A:"
     ]
    },
    {
     "cell_type": "markdown",
     "metadata": {},
     "source": [
      "To begin, we can see that there is this thing and whatever:"
     ]
    },
    {
     "cell_type": "code",
     "collapsed": false,
     "input": [
      "import scipy as stats\n",
      "\n",
      "data = [1,2,3]\n",
      "\n",
      "print(data)"
     ],
     "language": "python",
     "metadata": {},
     "outputs": [
      {
       "output_type": "stream",
       "stream": "stdout",
       "text": [
        "[1, 2, 3]\n"
       ]
      }
     ],
     "prompt_number": 15
    },
    {
     "cell_type": "markdown",
     "metadata": {},
     "source": [
      "Moreover, there is that other things and it do way good fo' ma mojo."
     ]
    }
   ],
   "metadata": {}
  }
 ]
}