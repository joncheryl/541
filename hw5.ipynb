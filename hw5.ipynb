{
 "metadata": {
  "name": "",
  "signature": "sha256:e3c44100ffacccdc78d8eeb9185d74343457953c194097bbb1d8f74b1f3856fc"
 },
 "nbformat": 3,
 "nbformat_minor": 0,
 "worksheets": [
  {
   "cells": [
    {
     "cell_type": "heading",
     "level": 1,
     "metadata": {},
     "source": [
      "STAT 541 HW5"
     ]
    },
    {
     "cell_type": "heading",
     "level": 2,
     "metadata": {},
     "source": [
      "Problem 2 (Problem 5.4 page 225)"
     ]
    },
    {
     "cell_type": "code",
     "collapsed": false,
     "input": [
      "# setup\n",
      "import pandas as pd\n",
      "import numpy as np\n",
      "import statsmodels.api as sm\n",
      "from statsmodels.formula.api import ols\n",
      "import matplotlib.pyplot as plt\n",
      "# from scipy import stats\n",
      "\n",
      "depth_levels = ['0.15', '0.18', '0.20', '0.25']\n",
      "feed_levels = ['0.20', '0.25', '0.30']\n",
      "metal_data = pd.DataFrame({'depth' : np.tile(np.repeat(depth_levels,3),3),\n",
      "                      'feed_rate' : np.repeat(feed_levels, 12),\n",
      "              'finish' : [74, 64, 60, 79, 68, 73, 82, 88, 92, 99, 104, 96,\n",
      "                        92, 86, 88, 98, 104, 88, 99, 108, 95, 104, 110, 99,\n",
      "                        99, 98, 102, 104, 99, 95, 108, 110, 99, 114, 111, 107]})"
     ],
     "language": "python",
     "metadata": {},
     "outputs": [],
     "prompt_number": 19
    },
    {
     "cell_type": "heading",
     "level": 3,
     "metadata": {},
     "source": [
      "Part a) initial analysis"
     ]
    },
    {
     "cell_type": "markdown",
     "metadata": {},
     "source": [
      "For the model\n",
      "$$ y_{ijk} = \\beta_i + \\tau_j + \\gamma_{ij} + \\epsilon_{ijk} \\quad\\quad 1 \\leq i \\leq 4,\\; 1 \\leq j \\leq 3,\\; 1 \\leq k \\leq 3$$\n",
      "$$ \\epsilon_{ijk} \\stackrel{iid}{\\sim} N(0, \\sigma^2) $$\n",
      "\n",
      "the hypotheses being tested are:\n",
      "$$ H_0: \\gamma_{ij} = \\gamma_{kl} \\quad \\mbox{ for all } \\quad i, j, k, l $$\n",
      "$$ H_a: \\gamma_{ij} \\neq \\gamma_{kl} \\quad \\mbox{ for some } \\quad i, j, k, l $$\n",
      "\n",
      "And ultimately for main effects:\n",
      "$$ H_0: \\beta_{i} = \\beta_{j} \\quad \\mbox{ for all } \\quad i, j $$\n",
      "$$ H_a: \\beta_{i} \\neq \\beta_{j} \\quad \\mbox{ for some } \\quad i, j $$\n",
      "\n",
      "$$ H_0: \\tau_i = \\tau_j \\quad \\mbox{ for all } \\quad i, j $$\n",
      "$$ H_a: \\tau_i \\neq \\tau_j \\quad \\mbox{ for some } \\quad i, j $$"
     ]
    },
    {
     "cell_type": "code",
     "collapsed": false,
     "input": [
      "metal_model = ols('finish ~ C(depth, Sum) * C(feed_rate, Sum)', metal_data).fit()\n",
      "sm.stats.anova_lm(metal_model, typ=2)"
     ],
     "language": "python",
     "metadata": {},
     "outputs": [
      {
       "html": [
        "<div style=\"max-height:1000px;max-width:1500px;overflow:auto;\">\n",
        "<table border=\"1\" class=\"dataframe\">\n",
        "  <thead>\n",
        "    <tr style=\"text-align: right;\">\n",
        "      <th></th>\n",
        "      <th>sum_sq</th>\n",
        "      <th>df</th>\n",
        "      <th>F</th>\n",
        "      <th>PR(&gt;F)</th>\n",
        "    </tr>\n",
        "  </thead>\n",
        "  <tbody>\n",
        "    <tr>\n",
        "      <th>C(depth, Sum)</th>\n",
        "      <td> 2125.111111</td>\n",
        "      <td>  3</td>\n",
        "      <td> 24.662798</td>\n",
        "      <td> 1.652000e-07</td>\n",
        "    </tr>\n",
        "    <tr>\n",
        "      <th>C(feed_rate, Sum)</th>\n",
        "      <td> 3160.500000</td>\n",
        "      <td>  2</td>\n",
        "      <td> 55.018375</td>\n",
        "      <td> 1.086046e-09</td>\n",
        "    </tr>\n",
        "    <tr>\n",
        "      <th>C(depth, Sum):C(feed_rate, Sum)</th>\n",
        "      <td>  557.055556</td>\n",
        "      <td>  6</td>\n",
        "      <td>  3.232431</td>\n",
        "      <td> 1.797302e-02</td>\n",
        "    </tr>\n",
        "    <tr>\n",
        "      <th>Residual</th>\n",
        "      <td>  689.333333</td>\n",
        "      <td> 24</td>\n",
        "      <td>       NaN</td>\n",
        "      <td>          NaN</td>\n",
        "    </tr>\n",
        "  </tbody>\n",
        "</table>\n",
        "</div>"
       ],
       "metadata": {},
       "output_type": "pyout",
       "prompt_number": 20,
       "text": [
        "                                      sum_sq  df          F        PR(>F)\n",
        "C(depth, Sum)                    2125.111111   3  24.662798  1.652000e-07\n",
        "C(feed_rate, Sum)                3160.500000   2  55.018375  1.086046e-09\n",
        "C(depth, Sum):C(feed_rate, Sum)   557.055556   6   3.232431  1.797302e-02\n",
        "Residual                          689.333333  24        NaN           NaN"
       ]
      }
     ],
     "prompt_number": 20
    },
    {
     "cell_type": "markdown",
     "metadata": {},
     "source": [
      "It looks like both of the main effects and the interactions are significant at the $\\alpha = .05$ level as all p-values are pretty small. The p-value for the interaction, which we inspect first, is 0.01797. The p-values for the depth and feed rate main effect terms are both less than .0001 indicating that all terms are significant. This is justified by the interaction plot generated below. We can see that as depth increases (along the x-axis) there is a general increase in finish, regardless of feed rate. As feed rate increases, the line representing the data goes up. Thus it seems that both main effects are significant. Moreover, as the lines are not parallel, we can assume that there is an interaction. It appears that as depth increases, feed rate's effect on finish isn't as large."
     ]
    },
    {
     "cell_type": "code",
     "collapsed": false,
     "input": [
      "by_feed_depth = metal_data.groupby(['feed_rate', 'depth']).mean()\n",
      "test1 = by_feed_depth.xs('0.20', level='feed_rate')\n",
      "test2 = by_feed_depth.xs('0.25', level='feed_rate')\n",
      "test3 = by_feed_depth.xs('0.30', level='feed_rate')\n",
      "\n",
      "plt.plot(test1.index.values, test1, 'r--', test2.index.values, test2, 'b:', test2.index.values, test3, 'g-.')\n",
      "\n",
      "import matplotlib.lines as mlines\n",
      "red_line = mlines.Line2D([], [], color='red', linestyle = '--', label='Feed rate = 0.20')\n",
      "blue_line = mlines.Line2D([], [], color='blue', linestyle = ':', label='Feed rate = 0.25')\n",
      "green_line = mlines.Line2D([], [], color='green', linestyle = '-.', label='Feed rate = 0.30')\n",
      "plt.legend(handles=[red_line, blue_line, green_line], loc=0)\n",
      "plt.title('Interaction plot')\n",
      "plt.xlabel('Depth')\n",
      "plt.ylabel('Finish')\n",
      "plt.show()"
     ],
     "language": "python",
     "metadata": {},
     "outputs": [
      {
       "metadata": {},
       "output_type": "display_data",
       "png": "[encoded data removed]",
       "text": [
        "<matplotlib.figure.Figure at 0x10cb37e90>"
       ]
      }
     ],
     "prompt_number": 21
    },
    {
     "cell_type": "heading",
     "level": 3,
     "metadata": {},
     "source": [
      "Part b) Residual Plots"
     ]
    },
    {
     "cell_type": "code",
     "collapsed": false,
     "input": [
      "import matplotlib.pyplot as plt\n",
      "%matplotlib inline\n",
      "\n",
      "resid = metal_model.resid\n",
      "fitted = metal_model.fittedvalues\n",
      "\n",
      "sm.qqplot(resid, line='s')\n",
      "plt.title('Q-Q Plot')\n",
      "plt.show()"
     ],
     "language": "python",
     "metadata": {},
     "outputs": [
      {
       "metadata": {},
       "output_type": "display_data",
       "png": "[encoded data removed]",
       "text": [
        "<matplotlib.figure.Figure at 0x10cb12e10>"
       ]
      }
     ],
     "prompt_number": 22
    },
    {
     "cell_type": "markdown",
     "metadata": {},
     "source": [
      "Because all the points appear to lie close to the diagonal line, there is no reason to suspect a problem with the residuals being normally distributed."
     ]
    },
    {
     "cell_type": "code",
     "collapsed": false,
     "input": [
      "plt.scatter(fitted, resid)\n",
      "plt.xlabel('Fitted Values')\n",
      "plt.ylabel('Residuals')\n",
      "plt.title('Residual vs Fitted Values')\n",
      "plt.show()"
     ],
     "language": "python",
     "metadata": {},
     "outputs": [
      {
       "metadata": {},
       "output_type": "display_data",
       "png": "[encoded data removed]",
       "text": [
        "<matplotlib.figure.Figure at 0x10c8db5d0>"
       ]
      }
     ],
     "prompt_number": 23
    },
    {
     "cell_type": "markdown",
     "metadata": {},
     "source": [
      "It appears that there is no problem with homogeneity of variance as the residuals appear to be consistently spread out across the different fitted values."
     ]
    },
    {
     "cell_type": "heading",
     "level": 3,
     "metadata": {},
     "source": [
      "Part c) Estimates"
     ]
    },
    {
     "cell_type": "code",
     "collapsed": false,
     "input": [
      "pd.DataFrame({'Estimate': metal_model.params})"
     ],
     "language": "python",
     "metadata": {},
     "outputs": [
      {
       "html": [
        "<div style=\"max-height:1000px;max-width:1500px;overflow:auto;\">\n",
        "<table border=\"1\" class=\"dataframe\">\n",
        "  <thead>\n",
        "    <tr style=\"text-align: right;\">\n",
        "      <th></th>\n",
        "      <th>Estimate</th>\n",
        "    </tr>\n",
        "  </thead>\n",
        "  <tbody>\n",
        "    <tr>\n",
        "      <th>Intercept</th>\n",
        "      <td> 94.333333</td>\n",
        "    </tr>\n",
        "    <tr>\n",
        "      <th>C(depth, Sum)[S.0.15]</th>\n",
        "      <td> -9.555556</td>\n",
        "    </tr>\n",
        "    <tr>\n",
        "      <th>C(depth, Sum)[S.0.18]</th>\n",
        "      <td> -4.555556</td>\n",
        "    </tr>\n",
        "    <tr>\n",
        "      <th>C(depth, Sum)[S.0.20]</th>\n",
        "      <td>  3.555556</td>\n",
        "    </tr>\n",
        "    <tr>\n",
        "      <th>C(feed_rate, Sum)[S.0.20]</th>\n",
        "      <td>-12.750000</td>\n",
        "    </tr>\n",
        "    <tr>\n",
        "      <th>C(feed_rate, Sum)[S.0.25]</th>\n",
        "      <td>  3.250000</td>\n",
        "    </tr>\n",
        "    <tr>\n",
        "      <th>C(depth, Sum)[S.0.15]:C(feed_rate, Sum)[S.0.20]</th>\n",
        "      <td> -6.027778</td>\n",
        "    </tr>\n",
        "    <tr>\n",
        "      <th>C(depth, Sum)[S.0.18]:C(feed_rate, Sum)[S.0.20]</th>\n",
        "      <td> -3.694444</td>\n",
        "    </tr>\n",
        "    <tr>\n",
        "      <th>C(depth, Sum)[S.0.20]:C(feed_rate, Sum)[S.0.20]</th>\n",
        "      <td>  2.194444</td>\n",
        "    </tr>\n",
        "    <tr>\n",
        "      <th>C(depth, Sum)[S.0.15]:C(feed_rate, Sum)[S.0.25]</th>\n",
        "      <td>  0.638889</td>\n",
        "    </tr>\n",
        "    <tr>\n",
        "      <th>C(depth, Sum)[S.0.18]:C(feed_rate, Sum)[S.0.25]</th>\n",
        "      <td>  3.638889</td>\n",
        "    </tr>\n",
        "    <tr>\n",
        "      <th>C(depth, Sum)[S.0.20]:C(feed_rate, Sum)[S.0.25]</th>\n",
        "      <td> -0.472222</td>\n",
        "    </tr>\n",
        "  </tbody>\n",
        "</table>\n",
        "</div>"
       ],
       "metadata": {},
       "output_type": "pyout",
       "prompt_number": 44,
       "text": [
        "                                                  Estimate\n",
        "Intercept                                        94.333333\n",
        "C(depth, Sum)[S.0.15]                            -9.555556\n",
        "C(depth, Sum)[S.0.18]                            -4.555556\n",
        "C(depth, Sum)[S.0.20]                             3.555556\n",
        "C(feed_rate, Sum)[S.0.20]                       -12.750000\n",
        "C(feed_rate, Sum)[S.0.25]                         3.250000\n",
        "C(depth, Sum)[S.0.15]:C(feed_rate, Sum)[S.0.20]  -6.027778\n",
        "C(depth, Sum)[S.0.18]:C(feed_rate, Sum)[S.0.20]  -3.694444\n",
        "C(depth, Sum)[S.0.20]:C(feed_rate, Sum)[S.0.20]   2.194444\n",
        "C(depth, Sum)[S.0.15]:C(feed_rate, Sum)[S.0.25]   0.638889\n",
        "C(depth, Sum)[S.0.18]:C(feed_rate, Sum)[S.0.25]   3.638889\n",
        "C(depth, Sum)[S.0.20]:C(feed_rate, Sum)[S.0.25]  -0.472222"
       ]
      }
     ],
     "prompt_number": 44
    },
    {
     "cell_type": "markdown",
     "metadata": {},
     "source": [
      "It doesn't print out every coefficient estimate, but because it is assumed that the sum of effects is 0, it can be easily computed that the\n",
      "- depth = 0.25 estimate is $$ \\beta_4 = -(-9.56 +-4.56 + 3.56) = 10.54 $$\n",
      "- feed rate = 0.30 estimate is $$ \\tau_3 = -(-12.75 + 3.25) = 9.5 $$\n",
      "- depth = 0.25, feed rate = 0.20 interaction estimate is $$ \\gamma_{4, 1} = -(-6.03 + -3.69 + 2.19) = 7.53 $$\n",
      "- depth = 0.25, feed rate = 0.25 interaction estimate is $$ \\gamma_{4, 2} = -(0.64 + 3.64 + -0.47) = -3.81 $$\n",
      "- depth = 0.15, feed rate = 0.30 interaction estimate is $$ \\gamma_{1, 3} = -(-6.03 + 0.64) = 5.39 $$\n",
      "- depth = 0.18, feed rate = 0.30 interaction estimate is $$ \\gamma_{2, 3} = -(-3.69 + 3.64) = 0.05 $$\n",
      "- depth = 0.20, feed rate = 0.30 interaction estimate is $$ \\gamma_{3, 3} = -(2.19 + -0.47) = -1.72 $$\n",
      "- depth = 0.25, feed rate = 0.30 interaction estimate is $$ \\gamma_{4, 3} = -(7.53 + -3.81) = -3.72 $$"
     ]
    },
    {
     "cell_type": "heading",
     "level": 3,
     "metadata": {},
     "source": [
      "Part d) p-values"
     ]
    },
    {
     "cell_type": "markdown",
     "metadata": {},
     "source": [
      "P-values for the tests are given in Part a) above."
     ]
    },
    {
     "cell_type": "heading",
     "level": 2,
     "metadata": {},
     "source": [
      "Problem 3"
     ]
    },
    {
     "cell_type": "code",
     "collapsed": false,
     "input": [
      "tablet_data = pd.DataFrame({'tablet_type' : np.tile((np.repeat(['MS', 'LP'], 10)), 3),\n",
      "                            'mesh_granule_size' : np.repeat(['12', '16', '20'],20),\n",
      "                            'disintegration_time' :\n",
      "                [56.3, 61.1, 60.9, 53.8, 59.3, 56.7, 60.8, 55.9, 60.9, 55.1,\n",
      "                 57.3, 61.8, 60.8, 63.5, 60.6, 58.7, 56.5, 54.1, 64.2, 60.8,\n",
      "                 62.1, 63.9, 67.5, 65.7, 65.9, 61.9, 62.2, 65.2, 70.2, 65.7,\n",
      "                 63.6, 62.0, 64.4, 63.1, 69.5, 68.6, 61.8, 72.1, 60.7, 67.1,\n",
      "                 69.5, 69.8, 70.6, 68.6, 66.3, 64.5, 66.8, 66.1, 71.7, 66.5,\n",
      "                 70.8, 74.7, 72.3, 73.6, 73.0, 67.1, 75.8, 72.7, 70.1, 68.0]})\n",
      "\n",
      "tablet_model = ols('disintegration_time ~ tablet_type * mesh_granule_size', tablet_data).fit()\n",
      "anova_table = sm.stats.anova_lm(tablet_model, typ=2)\n",
      "anova_table"
     ],
     "language": "python",
     "metadata": {},
     "outputs": [
      {
       "html": [
        "<div style=\"max-height:1000px;max-width:1500px;overflow:auto;\">\n",
        "<table border=\"1\" class=\"dataframe\">\n",
        "  <thead>\n",
        "    <tr style=\"text-align: right;\">\n",
        "      <th></th>\n",
        "      <th>sum_sq</th>\n",
        "      <th>df</th>\n",
        "      <th>F</th>\n",
        "      <th>PR(&gt;F)</th>\n",
        "    </tr>\n",
        "  </thead>\n",
        "  <tbody>\n",
        "    <tr>\n",
        "      <th>tablet_type</th>\n",
        "      <td>   55.680667</td>\n",
        "      <td>  1</td>\n",
        "      <td>  6.346313</td>\n",
        "      <td> 1.475516e-02</td>\n",
        "    </tr>\n",
        "    <tr>\n",
        "      <th>mesh_granule_size</th>\n",
        "      <td> 1210.321000</td>\n",
        "      <td>  2</td>\n",
        "      <td> 68.974349</td>\n",
        "      <td> 1.344720e-15</td>\n",
        "    </tr>\n",
        "    <tr>\n",
        "      <th>tablet_type:mesh_granule_size</th>\n",
        "      <td>   31.034333</td>\n",
        "      <td>  2</td>\n",
        "      <td>  1.768599</td>\n",
        "      <td> 1.803085e-01</td>\n",
        "    </tr>\n",
        "    <tr>\n",
        "      <th>Residual</th>\n",
        "      <td>  473.780000</td>\n",
        "      <td> 54</td>\n",
        "      <td>       NaN</td>\n",
        "      <td>          NaN</td>\n",
        "    </tr>\n",
        "  </tbody>\n",
        "</table>\n",
        "</div>"
       ],
       "metadata": {},
       "output_type": "pyout",
       "prompt_number": 28,
       "text": [
        "                                    sum_sq  df          F        PR(>F)\n",
        "tablet_type                      55.680667   1   6.346313  1.475516e-02\n",
        "mesh_granule_size              1210.321000   2  68.974349  1.344720e-15\n",
        "tablet_type:mesh_granule_size    31.034333   2   1.768599  1.803085e-01\n",
        "Residual                        473.780000  54        NaN           NaN"
       ]
      }
     ],
     "prompt_number": 28
    },
    {
     "cell_type": "heading",
     "level": 2,
     "metadata": {},
     "source": [
      "Problem 4"
     ]
    },
    {
     "cell_type": "markdown",
     "metadata": {},
     "source": [
      "We have that \n",
      "$$ SS_A + SS_B + SS_{AB} = 55.68 + 1210.32 + 31.03 = 1297.03$$\n",
      "which is the sum of squares for the one-way ANOVA on the midterm. This makes sense as the amount of variability between different groups is still the same as in the single factor analysis. What has changes is the partitioning of the variability."
     ]
    },
    {
     "cell_type": "heading",
     "level": 2,
     "metadata": {},
     "source": [
      "Problem 5"
     ]
    },
    {
     "cell_type": "markdown",
     "metadata": {},
     "source": [
      "1. None of the sum of squares is zero\n",
      "2. $SS_A = 0$\n",
      "3. $SS_{AB} = 0$\n",
      "4. $SS_A = SS_{AB} = 0$\n",
      "5. $SS_A = SS_B = 0$"
     ]
    }
   ],
   "metadata": {}
  }
 ]
}